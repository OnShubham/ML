{
 "cells": [
  {
   "cell_type": "code",
   "execution_count": 1,
   "id": "9983eec8",
   "metadata": {},
   "outputs": [],
   "source": [
    "def is_string_password(password):\n",
    "    if len(password)<8:\n",
    "        return False\n",
    "    if not any(char.isdigit() for char in password):\n",
    "        return False\n",
    "    if not any(char.islower() for char in password):\n",
    "        return False\n",
    "    if not any(char.isupper() for char in password):\n",
    "        return False\n",
    "    if not any(char in \"@\" for char in password):\n",
    "        return False\n",
    "    return True\n",
    "        "
   ]
  },
  {
   "cell_type": "code",
   "execution_count": 3,
   "id": "4f28533d",
   "metadata": {},
   "outputs": [
    {
     "name": "stdout",
     "output_type": "stream",
     "text": [
      "False\n",
      "True\n"
     ]
    }
   ],
   "source": [
    "print(is_string_password(\"adfafdsa\"))\n",
    "print(is_string_password(\"afdsa@af12Df\"))"
   ]
  },
  {
   "cell_type": "code",
   "execution_count": null,
   "id": "af71666b",
   "metadata": {},
   "outputs": [],
   "source": [
    "def calculate_total_cost(cart):\n",
    "    pass\n",
    "\n",
    "cart - [\n",
    "    {\n",
    "        \n",
    "    }\n",
    "]"
   ]
  },
  {
   "cell_type": "code",
   "execution_count": 5,
   "id": "7b39ad77",
   "metadata": {},
   "outputs": [],
   "source": [
    "def is_palindrome_str(s):\n",
    "    s = s.lower().replace(\" \",\"\")\n",
    "    return s==s[::-1]"
   ]
  },
  {
   "cell_type": "code",
   "execution_count": 6,
   "id": "10d5c101",
   "metadata": {},
   "outputs": [
    {
     "name": "stdout",
     "output_type": "stream",
     "text": [
      "False\n"
     ]
    }
   ],
   "source": [
    "print(is_palindrome_str(\" Shubham \"))"
   ]
  },
  {
   "cell_type": "code",
   "execution_count": 7,
   "id": "bc3cd7e5",
   "metadata": {},
   "outputs": [
    {
     "name": "stdout",
     "output_type": "stream",
     "text": [
      "True\n"
     ]
    }
   ],
   "source": [
    "print(is_palindrome_str(\" rrrr \"))"
   ]
  },
  {
   "cell_type": "code",
   "execution_count": 8,
   "id": "934c1b7c",
   "metadata": {},
   "outputs": [
    {
     "name": "stdout",
     "output_type": "stream",
     "text": [
      "True\n"
     ]
    }
   ],
   "source": [
    "print(is_palindrome_str(\" RrR \"))"
   ]
  },
  {
   "cell_type": "code",
   "execution_count": 10,
   "id": "0a5577d1",
   "metadata": {},
   "outputs": [
    {
     "name": "stdout",
     "output_type": "stream",
     "text": [
      "720\n"
     ]
    }
   ],
   "source": [
    "def factroial(n):\n",
    "    if n == 0:\n",
    "        \n",
    "        return 1\n",
    "    \n",
    "    else:\n",
    "        return n * factroial(n - 1)\n",
    "    \n",
    "print(factroial(6))"
   ]
  },
  {
   "cell_type": "code",
   "execution_count": null,
   "id": "c5affc10",
   "metadata": {},
   "outputs": [],
   "source": [
    "sdfds"
   ]
  }
 ],
 "metadata": {
  "kernelspec": {
   "display_name": "Python 3",
   "language": "python",
   "name": "python3"
  },
  "language_info": {
   "codemirror_mode": {
    "name": "ipython",
    "version": 3
   },
   "file_extension": ".py",
   "mimetype": "text/x-python",
   "name": "python",
   "nbconvert_exporter": "python",
   "pygments_lexer": "ipython3",
   "version": "3.10.10"
  }
 },
 "nbformat": 4,
 "nbformat_minor": 5
}
