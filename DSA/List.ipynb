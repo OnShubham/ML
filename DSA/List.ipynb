{
 "cells": [
  {
   "cell_type": "markdown",
   "id": "6d7d60a1",
   "metadata": {},
   "source": [
    "## List \n",
    "\n",
    "- list is duplicate accepts the value \n",
    "- this is similar of aaray \n",
    "- this in index this is start always 0"
   ]
  },
  {
   "cell_type": "code",
   "execution_count": 17,
   "id": "659b9261",
   "metadata": {},
   "outputs": [
    {
     "name": "stdout",
     "output_type": "stream",
     "text": [
      "['sl', 'Chirag', 'sk']\n"
     ]
    }
   ],
   "source": [
    "list = [\"sl\", \"Chirag\",\"sk\"]\n",
    "\n",
    "\n",
    "print(list)"
   ]
  },
  {
   "cell_type": "code",
   "execution_count": 24,
   "id": "73a3d9b7",
   "metadata": {},
   "outputs": [
    {
     "name": "stdout",
     "output_type": "stream",
     "text": [
      "['Chirag', 'sk']\n"
     ]
    }
   ],
   "source": [
    "print(list[1:3])"
   ]
  },
  {
   "cell_type": "code",
   "execution_count": 27,
   "id": "f874cdea",
   "metadata": {},
   "outputs": [],
   "source": [
    "list[1]=\"renuka\""
   ]
  },
  {
   "cell_type": "code",
   "execution_count": 29,
   "id": "b7791a8d",
   "metadata": {},
   "outputs": [
    {
     "name": "stdout",
     "output_type": "stream",
     "text": [
      "['sl', 'renuka', 'sk']\n"
     ]
    }
   ],
   "source": [
    "print(list)"
   ]
  },
  {
   "cell_type": "code",
   "execution_count": 30,
   "id": "3dd7c1e4",
   "metadata": {},
   "outputs": [
    {
     "data": {
      "text/plain": [
       "['sl', 'renuka', 'sk']"
      ]
     },
     "execution_count": 30,
     "metadata": {},
     "output_type": "execute_result"
    }
   ],
   "source": [
    "list"
   ]
  },
  {
   "cell_type": "code",
   "execution_count": 35,
   "id": "52d35ed6",
   "metadata": {},
   "outputs": [
    {
     "name": "stdout",
     "output_type": "stream",
     "text": [
      "['sl', 'renuka', 'sk', 'somesh', 'somesh', 'somesh', 'somesh']\n"
     ]
    }
   ],
   "source": [
    "list.append(\"somesh\") # this is add a item to list \n",
    "print(list)"
   ]
  },
  {
   "cell_type": "code",
   "execution_count": null,
   "id": "f1f27a11",
   "metadata": {},
   "outputs": [],
   "source": []
  },
  {
   "cell_type": "code",
   "execution_count": 40,
   "id": "b087c8b6",
   "metadata": {},
   "outputs": [
    {
     "name": "stdout",
     "output_type": "stream",
     "text": [
      "['sl', 'renuka', 'sk', 'somesh', 'somesh', 'somesh', 'somesh']\n"
     ]
    }
   ],
   "source": [
    "print(list)"
   ]
  },
  {
   "cell_type": "code",
   "execution_count": 41,
   "id": "8c6e2f94",
   "metadata": {},
   "outputs": [],
   "source": [
    "list.remove(\"sk\")"
   ]
  },
  {
   "cell_type": "code",
   "execution_count": 46,
   "id": "433881f1",
   "metadata": {},
   "outputs": [
    {
     "name": "stdout",
     "output_type": "stream",
     "text": [
      "['sl', 'renuka', 'somesh', 'somesh', 'somesh', 'somesh']\n"
     ]
    }
   ],
   "source": [
    "print(list\n",
    "      )"
   ]
  },
  {
   "cell_type": "code",
   "execution_count": 52,
   "id": "ffaa2a35",
   "metadata": {},
   "outputs": [
    {
     "name": "stdout",
     "output_type": "stream",
     "text": [
      "renuka\n"
     ]
    }
   ],
   "source": [
    "lst=list.pop()\n",
    "print(lst)"
   ]
  },
  {
   "cell_type": "code",
   "execution_count": 53,
   "id": "1443a70e",
   "metadata": {},
   "outputs": [
    {
     "name": "stdout",
     "output_type": "stream",
     "text": [
      "['sl']\n"
     ]
    }
   ],
   "source": [
    "print(list)"
   ]
  },
  {
   "cell_type": "code",
   "execution_count": 54,
   "id": "7e2caca4",
   "metadata": {},
   "outputs": [],
   "source": [
    "list.insert(2,\"om\")"
   ]
  },
  {
   "cell_type": "code",
   "execution_count": 55,
   "id": "a374efc8",
   "metadata": {},
   "outputs": [
    {
     "name": "stdout",
     "output_type": "stream",
     "text": [
      "['sl', 'om']\n"
     ]
    }
   ],
   "source": [
    "print(list)"
   ]
  },
  {
   "cell_type": "code",
   "execution_count": 57,
   "id": "4cfa0f39",
   "metadata": {},
   "outputs": [],
   "source": [
    "list.sort()"
   ]
  },
  {
   "cell_type": "code",
   "execution_count": 58,
   "id": "0f7b8cba",
   "metadata": {},
   "outputs": [
    {
     "name": "stdout",
     "output_type": "stream",
     "text": [
      "['om', 'sl']\n"
     ]
    }
   ],
   "source": [
    "print(list)"
   ]
  },
  {
   "cell_type": "code",
   "execution_count": 62,
   "id": "4cb533cd",
   "metadata": {},
   "outputs": [
    {
     "name": "stdout",
     "output_type": "stream",
     "text": [
      "[]\n"
     ]
    }
   ],
   "source": [
    "list.clear()\n",
    "print(list)\n"
   ]
  },
  {
   "cell_type": "code",
   "execution_count": null,
   "id": "7ad22fb9",
   "metadata": {},
   "outputs": [
    {
     "ename": "SyntaxError",
     "evalue": "invalid syntax (2123868865.py, line 2)",
     "output_type": "error",
     "traceback": [
      "\u001b[1;36m  Cell \u001b[1;32mIn[69], line 2\u001b[1;36m\u001b[0m\n\u001b[1;33m    if i is ::2:\u001b[0m\n\u001b[1;37m            ^\u001b[0m\n\u001b[1;31mSyntaxError\u001b[0m\u001b[1;31m:\u001b[0m invalid syntax\n"
     ]
    }
   ],
   "source": [
    "\\"
   ]
  },
  {
   "cell_type": "code",
   "execution_count": 7,
   "id": "fa182175",
   "metadata": {},
   "outputs": [],
   "source": [
    "list = []\n",
    "\n",
    "for x in range(10):\n",
    "    list.append(x*2)"
   ]
  },
  {
   "cell_type": "code",
   "execution_count": 8,
   "id": "471a9fb8",
   "metadata": {},
   "outputs": [
    {
     "name": "stdout",
     "output_type": "stream",
     "text": [
      "[0, 2, 4, 6, 8, 10, 12, 14, 16, 18]\n"
     ]
    }
   ],
   "source": [
    "print(list)"
   ]
  },
  {
   "cell_type": "code",
   "execution_count": 9,
   "id": "2c8a1817",
   "metadata": {},
   "outputs": [
    {
     "name": "stdout",
     "output_type": "stream",
     "text": [
      "[0, 1, 4, 9, 16, 25, 36, 49, 64, 81]\n"
     ]
    }
   ],
   "source": [
    "# Basic list Comphression\n",
    "\n",
    "\n",
    "square = [num **2 for num in range(10) ]\n",
    "\n",
    "print(square)"
   ]
  },
  {
   "cell_type": "code",
   "execution_count": null,
   "id": "043c6228",
   "metadata": {},
   "outputs": [],
   "source": []
  }
 ],
 "metadata": {
  "kernelspec": {
   "display_name": "Python 3",
   "language": "python",
   "name": "python3"
  },
  "language_info": {
   "codemirror_mode": {
    "name": "ipython",
    "version": 3
   },
   "file_extension": ".py",
   "mimetype": "text/x-python",
   "name": "python",
   "nbconvert_exporter": "python",
   "pygments_lexer": "ipython3",
   "version": "3.10.10"
  }
 },
 "nbformat": 4,
 "nbformat_minor": 5
}
